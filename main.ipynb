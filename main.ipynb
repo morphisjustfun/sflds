{
 "cells": [
  {
   "cell_type": "code",
   "execution_count": 1,
   "metadata": {
    "ExecuteTime": {
     "end_time": "2023-06-09T05:18:46.979041Z",
     "start_time": "2023-06-09T05:18:45.524118Z"
    }
   },
   "outputs": [],
   "source": [
    "import javalang\n",
    "import numpy as np\n",
    "from javalang.tree import *\n",
    "from queue import LifoQueue, Queue\n",
    "import torch\n",
    "import torch.nn as nn\n",
    "import torch.optim as optim\n",
    "import torch.nn.utils.rnn as rnn_utils\n",
    "from torch.utils.data import DataLoader, TensorDataset, Dataset\n",
    "import pandas as pd\n",
    "from sklearn.model_selection import train_test_split"
   ]
  },
  {
   "cell_type": "code",
   "execution_count": 3,
   "outputs": [
    {
     "data": {
      "text/plain": "         0     1     2     3     4     5     6     7     8     9  ...  5191  \\\n0     4209   517  3572  4285   458  1296  2172  5149  2447    21  ...     0   \n1     2789  4694  6162  4694  5725  1934  7824   736  4370  8031  ...     0   \n2     2789   707   707  7671   199  6959  3555  3705  4595  3928  ...     0   \n3     2236  2187  1490  2187  2187  2187  2187  2123  1777  1923  ...     0   \n4     7301  4080  7163  4080  1777  2123  6353  1591  1591  5226  ...     0   \n...    ...   ...   ...   ...   ...   ...   ...   ...   ...   ...  ...   ...   \n2684  4378  7560  4367  7560  5327  3183  5543  3898  1934  1934  ...     0   \n2685  3062  5891  1591  1591  5359     0     0     0     0     0  ...     0   \n2686  5502  7791  6657  7791  5342  1591  1591  6837  6837   668  ...     0   \n2687  7948  3768  3768  1807  4540  2123  3876  3876  2276  4214  ...     0   \n2688  1339  1591     0     0     0     0     0     0     0     0  ...     0   \n\n      5192  5193  5194  5195  5196  5197  5198  5199  bug  \n0        0     0     0     0     0     0     0     0    1  \n1        0     0     0     0     0     0     0     0    0  \n2        0     0     0     0     0     0     0     0    0  \n3        0     0     0     0     0     0     0     0    1  \n4        0     0     0     0     0     0     0     0    1  \n...    ...   ...   ...   ...   ...   ...   ...   ...  ...  \n2684     0     0     0     0     0     0     0     0    0  \n2685     0     0     0     0     0     0     0     0    0  \n2686     0     0     0     0     0     0     0     0    0  \n2687     0     0     0     0     0     0     0     0    0  \n2688     0     0     0     0     0     0     0     0    0  \n\n[2689 rows x 5201 columns]",
      "text/html": "<div>\n<style scoped>\n    .dataframe tbody tr th:only-of-type {\n        vertical-align: middle;\n    }\n\n    .dataframe tbody tr th {\n        vertical-align: top;\n    }\n\n    .dataframe thead th {\n        text-align: right;\n    }\n</style>\n<table border=\"1\" class=\"dataframe\">\n  <thead>\n    <tr style=\"text-align: right;\">\n      <th></th>\n      <th>0</th>\n      <th>1</th>\n      <th>2</th>\n      <th>3</th>\n      <th>4</th>\n      <th>5</th>\n      <th>6</th>\n      <th>7</th>\n      <th>8</th>\n      <th>9</th>\n      <th>...</th>\n      <th>5191</th>\n      <th>5192</th>\n      <th>5193</th>\n      <th>5194</th>\n      <th>5195</th>\n      <th>5196</th>\n      <th>5197</th>\n      <th>5198</th>\n      <th>5199</th>\n      <th>bug</th>\n    </tr>\n  </thead>\n  <tbody>\n    <tr>\n      <th>0</th>\n      <td>4209</td>\n      <td>517</td>\n      <td>3572</td>\n      <td>4285</td>\n      <td>458</td>\n      <td>1296</td>\n      <td>2172</td>\n      <td>5149</td>\n      <td>2447</td>\n      <td>21</td>\n      <td>...</td>\n      <td>0</td>\n      <td>0</td>\n      <td>0</td>\n      <td>0</td>\n      <td>0</td>\n      <td>0</td>\n      <td>0</td>\n      <td>0</td>\n      <td>0</td>\n      <td>1</td>\n    </tr>\n    <tr>\n      <th>1</th>\n      <td>2789</td>\n      <td>4694</td>\n      <td>6162</td>\n      <td>4694</td>\n      <td>5725</td>\n      <td>1934</td>\n      <td>7824</td>\n      <td>736</td>\n      <td>4370</td>\n      <td>8031</td>\n      <td>...</td>\n      <td>0</td>\n      <td>0</td>\n      <td>0</td>\n      <td>0</td>\n      <td>0</td>\n      <td>0</td>\n      <td>0</td>\n      <td>0</td>\n      <td>0</td>\n      <td>0</td>\n    </tr>\n    <tr>\n      <th>2</th>\n      <td>2789</td>\n      <td>707</td>\n      <td>707</td>\n      <td>7671</td>\n      <td>199</td>\n      <td>6959</td>\n      <td>3555</td>\n      <td>3705</td>\n      <td>4595</td>\n      <td>3928</td>\n      <td>...</td>\n      <td>0</td>\n      <td>0</td>\n      <td>0</td>\n      <td>0</td>\n      <td>0</td>\n      <td>0</td>\n      <td>0</td>\n      <td>0</td>\n      <td>0</td>\n      <td>0</td>\n    </tr>\n    <tr>\n      <th>3</th>\n      <td>2236</td>\n      <td>2187</td>\n      <td>1490</td>\n      <td>2187</td>\n      <td>2187</td>\n      <td>2187</td>\n      <td>2187</td>\n      <td>2123</td>\n      <td>1777</td>\n      <td>1923</td>\n      <td>...</td>\n      <td>0</td>\n      <td>0</td>\n      <td>0</td>\n      <td>0</td>\n      <td>0</td>\n      <td>0</td>\n      <td>0</td>\n      <td>0</td>\n      <td>0</td>\n      <td>1</td>\n    </tr>\n    <tr>\n      <th>4</th>\n      <td>7301</td>\n      <td>4080</td>\n      <td>7163</td>\n      <td>4080</td>\n      <td>1777</td>\n      <td>2123</td>\n      <td>6353</td>\n      <td>1591</td>\n      <td>1591</td>\n      <td>5226</td>\n      <td>...</td>\n      <td>0</td>\n      <td>0</td>\n      <td>0</td>\n      <td>0</td>\n      <td>0</td>\n      <td>0</td>\n      <td>0</td>\n      <td>0</td>\n      <td>0</td>\n      <td>1</td>\n    </tr>\n    <tr>\n      <th>...</th>\n      <td>...</td>\n      <td>...</td>\n      <td>...</td>\n      <td>...</td>\n      <td>...</td>\n      <td>...</td>\n      <td>...</td>\n      <td>...</td>\n      <td>...</td>\n      <td>...</td>\n      <td>...</td>\n      <td>...</td>\n      <td>...</td>\n      <td>...</td>\n      <td>...</td>\n      <td>...</td>\n      <td>...</td>\n      <td>...</td>\n      <td>...</td>\n      <td>...</td>\n      <td>...</td>\n    </tr>\n    <tr>\n      <th>2684</th>\n      <td>4378</td>\n      <td>7560</td>\n      <td>4367</td>\n      <td>7560</td>\n      <td>5327</td>\n      <td>3183</td>\n      <td>5543</td>\n      <td>3898</td>\n      <td>1934</td>\n      <td>1934</td>\n      <td>...</td>\n      <td>0</td>\n      <td>0</td>\n      <td>0</td>\n      <td>0</td>\n      <td>0</td>\n      <td>0</td>\n      <td>0</td>\n      <td>0</td>\n      <td>0</td>\n      <td>0</td>\n    </tr>\n    <tr>\n      <th>2685</th>\n      <td>3062</td>\n      <td>5891</td>\n      <td>1591</td>\n      <td>1591</td>\n      <td>5359</td>\n      <td>0</td>\n      <td>0</td>\n      <td>0</td>\n      <td>0</td>\n      <td>0</td>\n      <td>...</td>\n      <td>0</td>\n      <td>0</td>\n      <td>0</td>\n      <td>0</td>\n      <td>0</td>\n      <td>0</td>\n      <td>0</td>\n      <td>0</td>\n      <td>0</td>\n      <td>0</td>\n    </tr>\n    <tr>\n      <th>2686</th>\n      <td>5502</td>\n      <td>7791</td>\n      <td>6657</td>\n      <td>7791</td>\n      <td>5342</td>\n      <td>1591</td>\n      <td>1591</td>\n      <td>6837</td>\n      <td>6837</td>\n      <td>668</td>\n      <td>...</td>\n      <td>0</td>\n      <td>0</td>\n      <td>0</td>\n      <td>0</td>\n      <td>0</td>\n      <td>0</td>\n      <td>0</td>\n      <td>0</td>\n      <td>0</td>\n      <td>0</td>\n    </tr>\n    <tr>\n      <th>2687</th>\n      <td>7948</td>\n      <td>3768</td>\n      <td>3768</td>\n      <td>1807</td>\n      <td>4540</td>\n      <td>2123</td>\n      <td>3876</td>\n      <td>3876</td>\n      <td>2276</td>\n      <td>4214</td>\n      <td>...</td>\n      <td>0</td>\n      <td>0</td>\n      <td>0</td>\n      <td>0</td>\n      <td>0</td>\n      <td>0</td>\n      <td>0</td>\n      <td>0</td>\n      <td>0</td>\n      <td>0</td>\n    </tr>\n    <tr>\n      <th>2688</th>\n      <td>1339</td>\n      <td>1591</td>\n      <td>0</td>\n      <td>0</td>\n      <td>0</td>\n      <td>0</td>\n      <td>0</td>\n      <td>0</td>\n      <td>0</td>\n      <td>0</td>\n      <td>...</td>\n      <td>0</td>\n      <td>0</td>\n      <td>0</td>\n      <td>0</td>\n      <td>0</td>\n      <td>0</td>\n      <td>0</td>\n      <td>0</td>\n      <td>0</td>\n      <td>0</td>\n    </tr>\n  </tbody>\n</table>\n<p>2689 rows × 5201 columns</p>\n</div>"
     },
     "execution_count": 3,
     "metadata": {},
     "output_type": "execute_result"
    }
   ],
   "source": [
    "df = pd.read_csv('dist/train_df.csv')\n",
    "df"
   ],
   "metadata": {
    "collapsed": false,
    "ExecuteTime": {
     "end_time": "2023-06-09T05:18:51.693694Z",
     "start_time": "2023-06-09T05:18:51.132732Z"
    }
   }
  }
 ],
 "metadata": {
  "kernelspec": {
   "display_name": "base",
   "language": "python",
   "name": "python3"
  },
  "language_info": {
   "codemirror_mode": {
    "name": "ipython",
    "version": 3
   },
   "file_extension": ".py",
   "mimetype": "text/x-python",
   "name": "python",
   "nbconvert_exporter": "python",
   "pygments_lexer": "ipython3",
   "version": "3.10.9"
  },
  "orig_nbformat": 4
 },
 "nbformat": 4,
 "nbformat_minor": 2
}
