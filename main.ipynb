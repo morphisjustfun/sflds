{
 "cells": [
  {
   "cell_type": "code",
   "execution_count": 8,
   "metadata": {
    "ExecuteTime": {
     "end_time": "2023-06-08T18:11:51.280802Z",
     "start_time": "2023-06-08T18:11:51.278154Z"
    }
   },
   "outputs": [],
   "source": [
    "import javalang\n",
    "import numpy as np\n",
    "from javalang.tree import *\n",
    "from queue import LifoQueue, Queue\n",
    "import torch\n",
    "import torch.nn as nn\n",
    "import torch.optim as optim\n",
    "import torch.nn.utils.rnn as rnn_utils\n",
    "from torch.utils.data import DataLoader, TensorDataset, Dataset\n",
    "import pandas as pd\n",
    "from sklearn.model_selection import train_test_split"
   ]
  },
  {
   "cell_type": "code",
   "execution_count": 9,
   "metadata": {
    "ExecuteTime": {
     "end_time": "2023-06-08T18:11:52.438406Z",
     "start_time": "2023-06-08T18:11:52.186276Z"
    }
   },
   "outputs": [],
   "source": [
    "trainData = pd.read_csv('dist/train_df.csv')\n",
    "df_majority = trainData[trainData.bug == 0]\n",
    "df_minority = trainData[trainData.bug == 1]\n",
    "\n",
    "# Count how many samples for the majority class\n",
    "majority_count = df_majority.shape[0]\n",
    "\n",
    "# Upsample minority class\n",
    "df_minority_upsampled = df_minority.sample(majority_count, replace=True, random_state=42)\n",
    "\n",
    "# Combine majority class with upsampled minority class\n",
    "trainData_balanced = pd.concat([df_majority, df_minority_upsampled], axis=0)\n",
    "trainData_balanced = trainData_balanced.sample(frac=1, random_state=42)\n",
    "trainData_balanced = trainData_balanced.reset_index(drop=True)\n",
    "\n",
    "bfs_data = trainData_balanced.iloc[:, 1:2501]\n",
    "dfs_data = trainData_balanced.iloc[:, 2501:5001]\n",
    "labels_data = trainData_balanced['bug']"
   ]
  },
  {
   "cell_type": "code",
   "execution_count": 14,
   "outputs": [
    {
     "data": {
      "text/plain": "6982"
     },
     "execution_count": 14,
     "metadata": {},
     "output_type": "execute_result"
    }
   ],
   "source": [
    "vocab_size = bfs_data.max().max()\n",
    "vocab_size"
   ],
   "metadata": {
    "collapsed": false,
    "ExecuteTime": {
     "end_time": "2023-06-08T18:12:59.911084Z",
     "start_time": "2023-06-08T18:12:59.905022Z"
    }
   }
  },
  {
   "cell_type": "code",
   "execution_count": null,
   "metadata": {
    "is_executing": true,
    "ExecuteTime": {
     "start_time": "2023-06-08T18:36:19.400052Z"
    }
   },
   "outputs": [
    {
     "name": "stdout",
     "output_type": "stream",
     "text": [
      "Epoch 1: Train Loss = 0.3204 | Train Acc = 0.8498\n",
      "Epoch 2: Train Loss = 0.2014 | Train Acc = 0.9249\n",
      "Epoch 3: Train Loss = 0.1550 | Train Acc = 0.9407\n",
      "Epoch 4: Train Loss = 0.2047 | Train Acc = 0.9407\n",
      "Epoch 5: Train Loss = 0.2219 | Train Acc = 0.9407\n"
     ]
    }
   ],
   "source": [
    "class Net(nn.Module):\n",
    "    def __init__(self):\n",
    "        super(Net, self).__init__()\n",
    "        self.bfs_embedding = nn.Embedding(6983, 30)\n",
    "        self.bfs_lstm = nn.LSTM(30, 20)\n",
    "        self.dfs_embedding = nn.Embedding(6983, 30)\n",
    "        self.dfs_lstm = nn.LSTM(30, 20)\n",
    "        self.fc1 = nn.Linear(40, 60)\n",
    "        self.relu = nn.ReLU()\n",
    "        self.fc2 = nn.Linear(60, 1)\n",
    "        self.sigmoid = nn.Sigmoid()\n",
    "\n",
    "    def forward(self, bfs, dfs):\n",
    "        bfs_lengths = (bfs != 0).sum(dim=1)\n",
    "        dfs_lengths = (dfs != 0).sum(dim=1)\n",
    "\n",
    "        bfs_embedded = self.bfs_embedding(bfs)\n",
    "        dfs_embedded = self.dfs_embedding(dfs)\n",
    "\n",
    "        bfs_packed = rnn_utils.pack_padded_sequence(bfs_embedded.permute(1, 0, 2), bfs_lengths.cpu(), enforce_sorted=False)\n",
    "        dfs_packed = rnn_utils.pack_padded_sequence(dfs_embedded.permute(1, 0, 2), dfs_lengths.cpu(), enforce_sorted=False)\n",
    "\n",
    "        bfs_lstm_out, _ = self.bfs_lstm(bfs_packed)\n",
    "        dfs_lstm_out, _ = self.dfs_lstm(dfs_packed)\n",
    "\n",
    "        bfs_lstm_out, _ = rnn_utils.pad_packed_sequence(bfs_lstm_out)\n",
    "        dfs_lstm_out, _ = rnn_utils.pad_packed_sequence(dfs_lstm_out)\n",
    "\n",
    "        bfs_lstm_out = bfs_lstm_out[bfs_lengths - 1, torch.arange(bfs_lengths.shape[0])]\n",
    "        dfs_lstm_out = dfs_lstm_out[dfs_lengths - 1, torch.arange(dfs_lengths.shape[0])]\n",
    "\n",
    "        # bfs_lstm_out = bfs_lstm_out[-1]\n",
    "        # dfs_lstm_out = dfs_lstm_out[-1]\n",
    "\n",
    "        merged = torch.cat((bfs_lstm_out, dfs_lstm_out), dim=1)\n",
    "        merged = self.fc1(merged)\n",
    "        merged = self.relu(merged)\n",
    "        merged = self.fc2(merged)\n",
    "        merged = self.sigmoid(merged)\n",
    "        return merged\n",
    "\n",
    "bfs_data, bfs_test, dfs_data, dfs_test, labels_data, labels_test = train_test_split(bfs_data, dfs_data, labels_data, test_size=0.2)\n",
    "\n",
    "train_data = TensorDataset(torch.from_numpy(bfs_data.values), torch.from_numpy(dfs_data.values), torch.from_numpy(labels_data.values))\n",
    "val_data = TensorDataset(torch.from_numpy(bfs_test.values), torch.from_numpy(dfs_test.values), torch.from_numpy(labels_test.values))\n",
    "train_loader = DataLoader(train_data, batch_size=15, shuffle=True)\n",
    "model = Net()\n",
    "device = torch.device(\"cpu\")\n",
    "model = model.to(device)\n",
    "optimizer = optim.Adam(model.parameters(), lr=0.01)\n",
    "scheduler = optim.lr_scheduler.StepLR(optimizer, step_size=3, gamma=0.5)\n",
    "criterion = nn.BCELoss()\n",
    "for epoch in range(100):\n",
    "    model.train()\n",
    "    for i, data in enumerate(train_loader, 0):\n",
    "        bfs, dfs, labels = data\n",
    "        bfs, dfs, labels = bfs.to(device), dfs.to(device), labels.float().to(device)\n",
    "        labels = labels.view(-1, 1)\n",
    "        optimizer.zero_grad()\n",
    "        outputs = model(bfs, dfs)\n",
    "        loss = criterion(outputs, labels)\n",
    "        loss.backward()\n",
    "        optimizer.step()\n",
    "\n",
    "\n",
    "    model.eval()\n",
    "    with torch.no_grad():\n",
    "        bfs, dfs, labels = val_data[:]\n",
    "        bfs, dfs, labels = bfs.to(device), dfs.to(device), labels.float().to(device)\n",
    "        labels = labels.view(-1, 1)\n",
    "        outputs = model(bfs, dfs)\n",
    "        val_loss = criterion(outputs, labels)\n",
    "        acc = (outputs.round() == labels).float().mean()\n",
    "    print(f\"Epoch {epoch+1}: Train Loss = {val_loss:.4f} | Train Acc = {acc:.4f}\")\n",
    "    scheduler.step()\n"
   ]
  },
  {
   "cell_type": "code",
   "execution_count": null,
   "outputs": [],
   "source": [],
   "metadata": {
    "collapsed": false
   }
  }
 ],
 "metadata": {
  "kernelspec": {
   "display_name": "base",
   "language": "python",
   "name": "python3"
  },
  "language_info": {
   "codemirror_mode": {
    "name": "ipython",
    "version": 3
   },
   "file_extension": ".py",
   "mimetype": "text/x-python",
   "name": "python",
   "nbconvert_exporter": "python",
   "pygments_lexer": "ipython3",
   "version": "3.10.9"
  },
  "orig_nbformat": 4
 },
 "nbformat": 4,
 "nbformat_minor": 2
}
